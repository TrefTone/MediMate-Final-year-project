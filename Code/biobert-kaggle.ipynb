{
 "cells": [
  {
   "cell_type": "code",
   "execution_count": 1,
   "id": "3f5899b5",
   "metadata": {
    "execution": {
     "iopub.execute_input": "2024-03-29T20:45:56.599970Z",
     "iopub.status.busy": "2024-03-29T20:45:56.599607Z",
     "iopub.status.idle": "2024-03-29T20:46:10.922775Z",
     "shell.execute_reply": "2024-03-29T20:46:10.921860Z"
    },
    "papermill": {
     "duration": 14.337977,
     "end_time": "2024-03-29T20:46:10.925601",
     "exception": false,
     "start_time": "2024-03-29T20:45:56.587624",
     "status": "completed"
    },
    "tags": []
   },
   "outputs": [],
   "source": [
    "import random\n",
    "import numpy as np\n",
    "import pandas as pd\n",
    "import seaborn as sns\n",
    "import matplotlib.pyplot as plt\n",
    "from tqdm.notebook import tqdm\n",
    "from sklearn.metrics import f1_score\n",
    "from kaggle_secrets import UserSecretsClient\n",
    "from sklearn.model_selection import train_test_split\n",
    "\n",
    "import wandb\n",
    "import torch\n",
    "import spacy\n",
    "from spacy import displacy\n",
    "nlp = spacy.blank('en')\n",
    "from transformers import BertTokenizer\n",
    "from torch.utils.data import TensorDataset\n",
    "from transformers import BertForSequenceClassification\n",
    "\n",
    "from torch.optim import AdamW\n",
    "from transformers import get_linear_schedule_with_warmup\n",
    "from torch.utils.data import DataLoader, RandomSampler, SequentialSampler"
   ]
  },
  {
   "cell_type": "code",
   "execution_count": 2,
   "id": "b054a9e9",
   "metadata": {
    "execution": {
     "iopub.execute_input": "2024-03-29T20:46:10.952689Z",
     "iopub.status.busy": "2024-03-29T20:46:10.951456Z",
     "iopub.status.idle": "2024-03-29T20:46:13.006722Z",
     "shell.execute_reply": "2024-03-29T20:46:13.005058Z"
    },
    "papermill": {
     "duration": 2.0691,
     "end_time": "2024-03-29T20:46:13.008859",
     "exception": true,
     "start_time": "2024-03-29T20:46:10.939759",
     "status": "failed"
    },
    "tags": []
   },
   "outputs": [
    {
     "name": "stdout",
     "output_type": "stream",
     "text": [
      "If you want to use your W&B account, go to Add-ons -> Secrets and provide your W&B access token. Use the Label name as wandb_api. \n",
      "Get your W&B access token from here: https://wandb.ai/authorize\n"
     ]
    },
    {
     "ename": "UsageError",
     "evalue": "api_key not configured (no-tty). call wandb.login(key=[your_api_key])",
     "output_type": "error",
     "traceback": [
      "\u001b[0;31m---------------------------------------------------------------------------\u001b[0m",
      "\u001b[0;31mUsageError\u001b[0m                                Traceback (most recent call last)",
      "Cell \u001b[0;32mIn[2], line 12\u001b[0m\n\u001b[1;32m      7\u001b[0m     anony \u001b[38;5;241m=\u001b[39m \u001b[38;5;124m\"\u001b[39m\u001b[38;5;124mmust\u001b[39m\u001b[38;5;124m\"\u001b[39m\n\u001b[1;32m      8\u001b[0m     \u001b[38;5;28mprint\u001b[39m(\u001b[38;5;124m'\u001b[39m\u001b[38;5;124mIf you want to use your W&B account, go to Add-ons -> Secrets and provide your W&B access token. Use the Label name as wandb_api. \u001b[39m\u001b[38;5;130;01m\\n\u001b[39;00m\u001b[38;5;124mGet your W&B access token from here: https://wandb.ai/authorize\u001b[39m\u001b[38;5;124m'\u001b[39m)\n\u001b[0;32m---> 12\u001b[0m \u001b[43mwandb\u001b[49m\u001b[38;5;241;43m.\u001b[39;49m\u001b[43minit\u001b[49m\u001b[43m(\u001b[49m\u001b[43mproject\u001b[49m\u001b[38;5;241;43m=\u001b[39;49m\u001b[38;5;124;43m\"\u001b[39;49m\u001b[38;5;124;43mPICO Evidence Summarization\u001b[39;49m\u001b[38;5;124;43m\"\u001b[39;49m\u001b[43m,\u001b[49m\u001b[43mname\u001b[49m\u001b[38;5;241;43m=\u001b[39;49m\u001b[38;5;124;43mf\u001b[39;49m\u001b[38;5;124;43m\"\u001b[39;49m\u001b[38;5;124;43m11.PICO Evidence Summarization BioBert-Base-Cased-v1.2-Run 11\u001b[39;49m\u001b[38;5;124;43m\"\u001b[39;49m\u001b[43m)\u001b[49m\n",
      "File \u001b[0;32m/opt/conda/lib/python3.10/site-packages/wandb/sdk/wandb_init.py:1195\u001b[0m, in \u001b[0;36minit\u001b[0;34m(job_type, dir, config, project, entity, reinit, tags, group, name, notes, magic, config_exclude_keys, config_include_keys, anonymous, mode, allow_val_change, resume, force, tensorboard, sync_tensorboard, monitor_gym, save_code, id, settings)\u001b[0m\n\u001b[1;32m   1193\u001b[0m     \u001b[38;5;28;01mif\u001b[39;00m logger \u001b[38;5;129;01mis\u001b[39;00m \u001b[38;5;129;01mnot\u001b[39;00m \u001b[38;5;28;01mNone\u001b[39;00m:\n\u001b[1;32m   1194\u001b[0m         logger\u001b[38;5;241m.\u001b[39mexception(\u001b[38;5;28mstr\u001b[39m(e))\n\u001b[0;32m-> 1195\u001b[0m     \u001b[38;5;28;01mraise\u001b[39;00m e\n\u001b[1;32m   1196\u001b[0m \u001b[38;5;28;01mexcept\u001b[39;00m \u001b[38;5;167;01mKeyboardInterrupt\u001b[39;00m \u001b[38;5;28;01mas\u001b[39;00m e:\n\u001b[1;32m   1197\u001b[0m     \u001b[38;5;28;01massert\u001b[39;00m logger\n",
      "File \u001b[0;32m/opt/conda/lib/python3.10/site-packages/wandb/sdk/wandb_init.py:1172\u001b[0m, in \u001b[0;36minit\u001b[0;34m(job_type, dir, config, project, entity, reinit, tags, group, name, notes, magic, config_exclude_keys, config_include_keys, anonymous, mode, allow_val_change, resume, force, tensorboard, sync_tensorboard, monitor_gym, save_code, id, settings)\u001b[0m\n\u001b[1;32m   1170\u001b[0m \u001b[38;5;28;01mtry\u001b[39;00m:\n\u001b[1;32m   1171\u001b[0m     wi \u001b[38;5;241m=\u001b[39m _WandbInit()\n\u001b[0;32m-> 1172\u001b[0m     \u001b[43mwi\u001b[49m\u001b[38;5;241;43m.\u001b[39;49m\u001b[43msetup\u001b[49m\u001b[43m(\u001b[49m\u001b[43mkwargs\u001b[49m\u001b[43m)\u001b[49m\n\u001b[1;32m   1173\u001b[0m     \u001b[38;5;28;01massert\u001b[39;00m wi\u001b[38;5;241m.\u001b[39msettings\n\u001b[1;32m   1174\u001b[0m     except_exit \u001b[38;5;241m=\u001b[39m wi\u001b[38;5;241m.\u001b[39msettings\u001b[38;5;241m.\u001b[39m_except_exit\n",
      "File \u001b[0;32m/opt/conda/lib/python3.10/site-packages/wandb/sdk/wandb_init.py:306\u001b[0m, in \u001b[0;36m_WandbInit.setup\u001b[0;34m(self, kwargs)\u001b[0m\n\u001b[1;32m    303\u001b[0m     settings\u001b[38;5;241m.\u001b[39mupdate(init_settings, source\u001b[38;5;241m=\u001b[39mSource\u001b[38;5;241m.\u001b[39mINIT)\n\u001b[1;32m    305\u001b[0m \u001b[38;5;28;01mif\u001b[39;00m \u001b[38;5;129;01mnot\u001b[39;00m settings\u001b[38;5;241m.\u001b[39m_offline \u001b[38;5;129;01mand\u001b[39;00m \u001b[38;5;129;01mnot\u001b[39;00m settings\u001b[38;5;241m.\u001b[39m_noop:\n\u001b[0;32m--> 306\u001b[0m     \u001b[43mwandb_login\u001b[49m\u001b[38;5;241;43m.\u001b[39;49m\u001b[43m_login\u001b[49m\u001b[43m(\u001b[49m\n\u001b[1;32m    307\u001b[0m \u001b[43m        \u001b[49m\u001b[43manonymous\u001b[49m\u001b[38;5;241;43m=\u001b[39;49m\u001b[43mkwargs\u001b[49m\u001b[38;5;241;43m.\u001b[39;49m\u001b[43mpop\u001b[49m\u001b[43m(\u001b[49m\u001b[38;5;124;43m\"\u001b[39;49m\u001b[38;5;124;43manonymous\u001b[39;49m\u001b[38;5;124;43m\"\u001b[39;49m\u001b[43m,\u001b[49m\u001b[43m \u001b[49m\u001b[38;5;28;43;01mNone\u001b[39;49;00m\u001b[43m)\u001b[49m\u001b[43m,\u001b[49m\n\u001b[1;32m    308\u001b[0m \u001b[43m        \u001b[49m\u001b[43mforce\u001b[49m\u001b[38;5;241;43m=\u001b[39;49m\u001b[43mkwargs\u001b[49m\u001b[38;5;241;43m.\u001b[39;49m\u001b[43mpop\u001b[49m\u001b[43m(\u001b[49m\u001b[38;5;124;43m\"\u001b[39;49m\u001b[38;5;124;43mforce\u001b[39;49m\u001b[38;5;124;43m\"\u001b[39;49m\u001b[43m,\u001b[49m\u001b[43m \u001b[49m\u001b[38;5;28;43;01mNone\u001b[39;49;00m\u001b[43m)\u001b[49m\u001b[43m,\u001b[49m\n\u001b[1;32m    309\u001b[0m \u001b[43m        \u001b[49m\u001b[43m_disable_warning\u001b[49m\u001b[38;5;241;43m=\u001b[39;49m\u001b[38;5;28;43;01mTrue\u001b[39;49;00m\u001b[43m,\u001b[49m\n\u001b[1;32m    310\u001b[0m \u001b[43m        \u001b[49m\u001b[43m_silent\u001b[49m\u001b[38;5;241;43m=\u001b[39;49m\u001b[43msettings\u001b[49m\u001b[38;5;241;43m.\u001b[39;49m\u001b[43mquiet\u001b[49m\u001b[43m \u001b[49m\u001b[38;5;129;43;01mor\u001b[39;49;00m\u001b[43m \u001b[49m\u001b[43msettings\u001b[49m\u001b[38;5;241;43m.\u001b[39;49m\u001b[43msilent\u001b[49m\u001b[43m,\u001b[49m\n\u001b[1;32m    311\u001b[0m \u001b[43m        \u001b[49m\u001b[43m_entity\u001b[49m\u001b[38;5;241;43m=\u001b[39;49m\u001b[43mkwargs\u001b[49m\u001b[38;5;241;43m.\u001b[39;49m\u001b[43mget\u001b[49m\u001b[43m(\u001b[49m\u001b[38;5;124;43m\"\u001b[39;49m\u001b[38;5;124;43mentity\u001b[39;49m\u001b[38;5;124;43m\"\u001b[39;49m\u001b[43m)\u001b[49m\u001b[43m \u001b[49m\u001b[38;5;129;43;01mor\u001b[39;49;00m\u001b[43m \u001b[49m\u001b[43msettings\u001b[49m\u001b[38;5;241;43m.\u001b[39;49m\u001b[43mentity\u001b[49m\u001b[43m,\u001b[49m\n\u001b[1;32m    312\u001b[0m \u001b[43m    \u001b[49m\u001b[43m)\u001b[49m\n\u001b[1;32m    314\u001b[0m \u001b[38;5;66;03m# apply updated global state after login was handled\u001b[39;00m\n\u001b[1;32m    315\u001b[0m wl \u001b[38;5;241m=\u001b[39m wandb\u001b[38;5;241m.\u001b[39msetup()\n",
      "File \u001b[0;32m/opt/conda/lib/python3.10/site-packages/wandb/sdk/wandb_login.py:317\u001b[0m, in \u001b[0;36m_login\u001b[0;34m(anonymous, key, relogin, host, force, timeout, _backend, _silent, _disable_warning, _entity)\u001b[0m\n\u001b[1;32m    314\u001b[0m     \u001b[38;5;28;01mreturn\u001b[39;00m logged_in\n\u001b[1;32m    316\u001b[0m \u001b[38;5;28;01mif\u001b[39;00m \u001b[38;5;129;01mnot\u001b[39;00m key:\n\u001b[0;32m--> 317\u001b[0m     \u001b[43mwlogin\u001b[49m\u001b[38;5;241;43m.\u001b[39;49m\u001b[43mprompt_api_key\u001b[49m\u001b[43m(\u001b[49m\u001b[43m)\u001b[49m\n\u001b[1;32m    319\u001b[0m \u001b[38;5;66;03m# make sure login credentials get to the backend\u001b[39;00m\n\u001b[1;32m    320\u001b[0m wlogin\u001b[38;5;241m.\u001b[39mpropogate_login()\n",
      "File \u001b[0;32m/opt/conda/lib/python3.10/site-packages/wandb/sdk/wandb_login.py:247\u001b[0m, in \u001b[0;36m_WandbLogin.prompt_api_key\u001b[0;34m(self)\u001b[0m\n\u001b[1;32m    241\u001b[0m \u001b[38;5;28;01mif\u001b[39;00m status \u001b[38;5;241m==\u001b[39m ApiKeyStatus\u001b[38;5;241m.\u001b[39mNOTTY:\n\u001b[1;32m    242\u001b[0m     directive \u001b[38;5;241m=\u001b[39m (\n\u001b[1;32m    243\u001b[0m         \u001b[38;5;124m\"\u001b[39m\u001b[38;5;124mwandb login [your_api_key]\u001b[39m\u001b[38;5;124m\"\u001b[39m\n\u001b[1;32m    244\u001b[0m         \u001b[38;5;28;01mif\u001b[39;00m \u001b[38;5;28mself\u001b[39m\u001b[38;5;241m.\u001b[39m_settings\u001b[38;5;241m.\u001b[39m_cli_only_mode\n\u001b[1;32m    245\u001b[0m         \u001b[38;5;28;01melse\u001b[39;00m \u001b[38;5;124m\"\u001b[39m\u001b[38;5;124mwandb.login(key=[your_api_key])\u001b[39m\u001b[38;5;124m\"\u001b[39m\n\u001b[1;32m    246\u001b[0m     )\n\u001b[0;32m--> 247\u001b[0m     \u001b[38;5;28;01mraise\u001b[39;00m UsageError(\u001b[38;5;124m\"\u001b[39m\u001b[38;5;124mapi_key not configured (no-tty). call \u001b[39m\u001b[38;5;124m\"\u001b[39m \u001b[38;5;241m+\u001b[39m directive)\n\u001b[1;32m    249\u001b[0m \u001b[38;5;28mself\u001b[39m\u001b[38;5;241m.\u001b[39mupdate_session(key, status\u001b[38;5;241m=\u001b[39mstatus)\n\u001b[1;32m    250\u001b[0m \u001b[38;5;28mself\u001b[39m\u001b[38;5;241m.\u001b[39m_key \u001b[38;5;241m=\u001b[39m key\n",
      "\u001b[0;31mUsageError\u001b[0m: api_key not configured (no-tty). call wandb.login(key=[your_api_key])"
     ]
    }
   ],
   "source": [
    "try:\n",
    "    user_secrets = UserSecretsClient()\n",
    "    secret_value_0 = user_secrets.get_secret(\"wandb_api\")\n",
    "    wandb.login(key=secret_value_0)\n",
    "    anony=None\n",
    "except:\n",
    "    anony = \"must\"\n",
    "    print('If you want to use your W&B account, go to Add-ons -> Secrets and provide your W&B access token. Use the Label name as wandb_api. \\nGet your W&B access token from here: https://wandb.ai/authorize')\n",
    "    \n",
    "    \n",
    "    \n",
    "wandb.init(project=\"PICO Evidence Summarization\",name=f\"11.PICO Evidence Summarization BioBert-Base-Cased-v1.2-Run 11\")"
   ]
  },
  {
   "cell_type": "code",
   "execution_count": null,
   "id": "7098f41d",
   "metadata": {
    "execution": {
     "iopub.execute_input": "2024-03-29T19:28:46.955859Z",
     "iopub.status.busy": "2024-03-29T19:28:46.955464Z",
     "iopub.status.idle": "2024-03-29T19:28:47.023216Z",
     "shell.execute_reply": "2024-03-29T19:28:47.022120Z",
     "shell.execute_reply.started": "2024-03-29T19:28:46.955829Z"
    },
    "papermill": {
     "duration": null,
     "end_time": null,
     "exception": null,
     "start_time": null,
     "status": "pending"
    },
    "tags": []
   },
   "outputs": [],
   "source": [
    "df=pd.read_csv('/kaggle/input/medical-transcripts/transcript_clean.csv')\n",
    "df"
   ]
  },
  {
   "cell_type": "code",
   "execution_count": null,
   "id": "6a8e50f2",
   "metadata": {
    "execution": {
     "iopub.execute_input": "2024-03-29T19:29:05.327223Z",
     "iopub.status.busy": "2024-03-29T19:29:05.326332Z",
     "iopub.status.idle": "2024-03-29T19:29:05.340618Z",
     "shell.execute_reply": "2024-03-29T19:29:05.339495Z",
     "shell.execute_reply.started": "2024-03-29T19:29:05.327191Z"
    },
    "papermill": {
     "duration": null,
     "end_time": null,
     "exception": null,
     "start_time": null,
     "status": "pending"
    },
    "tags": []
   },
   "outputs": [],
   "source": [
    "df['prompt'].value_counts()"
   ]
  },
  {
   "cell_type": "code",
   "execution_count": null,
   "id": "b378c1c0",
   "metadata": {
    "execution": {
     "iopub.execute_input": "2024-03-29T19:29:14.864577Z",
     "iopub.status.busy": "2024-03-29T19:29:14.863803Z",
     "iopub.status.idle": "2024-03-29T19:29:14.877030Z",
     "shell.execute_reply": "2024-03-29T19:29:14.875594Z",
     "shell.execute_reply.started": "2024-03-29T19:29:14.864544Z"
    },
    "papermill": {
     "duration": null,
     "end_time": null,
     "exception": null,
     "start_time": null,
     "status": "pending"
    },
    "tags": []
   },
   "outputs": [],
   "source": [
    "evidence_labels = df.prompt.unique()\n",
    "\n",
    "evidence_dict = {}\n",
    "for index, evidence_labels in enumerate(evidence_labels):\n",
    "    evidence_dict[evidence_labels] = index\n",
    "evidence_dict"
   ]
  },
  {
   "cell_type": "code",
   "execution_count": null,
   "id": "087362b6",
   "metadata": {
    "execution": {
     "iopub.execute_input": "2024-03-29T19:29:40.673202Z",
     "iopub.status.busy": "2024-03-29T19:29:40.672505Z",
     "iopub.status.idle": "2024-03-29T19:29:40.700534Z",
     "shell.execute_reply": "2024-03-29T19:29:40.699475Z",
     "shell.execute_reply.started": "2024-03-29T19:29:40.673151Z"
    },
    "papermill": {
     "duration": null,
     "end_time": null,
     "exception": null,
     "start_time": null,
     "status": "pending"
    },
    "tags": []
   },
   "outputs": [],
   "source": [
    "df['Tags Mapped'] = df.prompt.map(evidence_dict)\n",
    "df"
   ]
  },
  {
   "cell_type": "code",
   "execution_count": null,
   "id": "b7ee997c",
   "metadata": {
    "execution": {
     "iopub.execute_input": "2024-03-29T19:30:03.460244Z",
     "iopub.status.busy": "2024-03-29T19:30:03.459778Z",
     "iopub.status.idle": "2024-03-29T19:30:03.475830Z",
     "shell.execute_reply": "2024-03-29T19:30:03.474775Z",
     "shell.execute_reply.started": "2024-03-29T19:30:03.460210Z"
    },
    "papermill": {
     "duration": null,
     "end_time": null,
     "exception": null,
     "start_time": null,
     "status": "pending"
    },
    "tags": []
   },
   "outputs": [],
   "source": [
    "X_train, X_val, y_train, y_val = train_test_split(df.index.values,\\\n",
    "                                                  df['Tags Mapped'].values,\\\n",
    "                                                  test_size=0.15,\\\n",
    "                                                  random_state=42,\\\n",
    "                                                  stratify=df['Tags Mapped'].values)"
   ]
  },
  {
   "cell_type": "code",
   "execution_count": null,
   "id": "1f0ff5a8",
   "metadata": {
    "execution": {
     "iopub.execute_input": "2024-03-29T19:30:12.391090Z",
     "iopub.status.busy": "2024-03-29T19:30:12.390355Z",
     "iopub.status.idle": "2024-03-29T19:30:12.403277Z",
     "shell.execute_reply": "2024-03-29T19:30:12.402183Z",
     "shell.execute_reply.started": "2024-03-29T19:30:12.391053Z"
    },
    "papermill": {
     "duration": null,
     "end_time": null,
     "exception": null,
     "start_time": null,
     "status": "pending"
    },
    "tags": []
   },
   "outputs": [],
   "source": [
    "df['data_type'] = ['not_set']*df.shape[0]\n",
    "\n",
    "df.loc[X_train, 'data_type'] = 'train'\n",
    "df.loc[X_val, 'data_type'] = 'val'"
   ]
  },
  {
   "cell_type": "code",
   "execution_count": null,
   "id": "26b8d6ca",
   "metadata": {
    "execution": {
     "iopub.execute_input": "2024-03-29T19:30:22.559412Z",
     "iopub.status.busy": "2024-03-29T19:30:22.559057Z",
     "iopub.status.idle": "2024-03-29T19:30:22.602602Z",
     "shell.execute_reply": "2024-03-29T19:30:22.601504Z",
     "shell.execute_reply.started": "2024-03-29T19:30:22.559386Z"
    },
    "papermill": {
     "duration": null,
     "end_time": null,
     "exception": null,
     "start_time": null,
     "status": "pending"
    },
    "tags": []
   },
   "outputs": [],
   "source": [
    "df.groupby(['prompt', 'Tags Mapped', 'data_type']).count()"
   ]
  },
  {
   "cell_type": "code",
   "execution_count": null,
   "id": "8973c818",
   "metadata": {
    "execution": {
     "iopub.execute_input": "2024-03-29T19:30:34.965538Z",
     "iopub.status.busy": "2024-03-29T19:30:34.964423Z",
     "iopub.status.idle": "2024-03-29T19:30:35.951343Z",
     "shell.execute_reply": "2024-03-29T19:30:35.950341Z",
     "shell.execute_reply.started": "2024-03-29T19:30:34.965498Z"
    },
    "papermill": {
     "duration": null,
     "end_time": null,
     "exception": null,
     "start_time": null,
     "status": "pending"
    },
    "tags": []
   },
   "outputs": [],
   "source": [
    "tokenizer = BertTokenizer.from_pretrained('dmis-lab/biobert-base-cased-v1.2', do_lower_case=True,truncation=True)"
   ]
  },
  {
   "cell_type": "code",
   "execution_count": null,
   "id": "c0ab6928",
   "metadata": {
    "execution": {
     "iopub.execute_input": "2024-03-29T19:31:15.317219Z",
     "iopub.status.busy": "2024-03-29T19:31:15.316341Z",
     "iopub.status.idle": "2024-03-29T19:31:18.289930Z",
     "shell.execute_reply": "2024-03-29T19:31:18.288886Z",
     "shell.execute_reply.started": "2024-03-29T19:31:15.317184Z"
    },
    "papermill": {
     "duration": null,
     "end_time": null,
     "exception": null,
     "start_time": null,
     "status": "pending"
    },
    "tags": []
   },
   "outputs": [],
   "source": [
    "encoded_data_train = tokenizer.batch_encode_plus(\n",
    "    df[df.data_type=='train'].phrase.values, \n",
    "    add_special_tokens=True, \n",
    "    return_attention_mask=True, \n",
    "    truncation=True,\n",
    "    padding='longest', \n",
    "    max_length=512, \n",
    "    return_tensors='pt'\n",
    ")\n",
    "\n",
    "encoded_data_val = tokenizer.batch_encode_plus(\n",
    "    df[df.data_type=='val'].phrase.values, \n",
    "    add_special_tokens=True, \n",
    "    truncation=True,\n",
    "    return_attention_mask=True, \n",
    "    padding='longest', \n",
    "    max_length=512, \n",
    "    return_tensors='pt'\n",
    ")\n",
    "\n",
    "\n",
    "input_ids_train = encoded_data_train['input_ids']\n",
    "attention_masks_train = encoded_data_train['attention_mask']\n",
    "tags_train = torch.tensor(df[df.data_type=='train']['Tags Mapped'].values)\n",
    "\n",
    "input_ids_val = encoded_data_val['input_ids']\n",
    "attention_masks_val = encoded_data_val['attention_mask']\n",
    "tags_val = torch.tensor(df[df.data_type=='val']['Tags Mapped'].values)"
   ]
  },
  {
   "cell_type": "code",
   "execution_count": null,
   "id": "7c5b1228",
   "metadata": {
    "execution": {
     "iopub.execute_input": "2024-03-29T19:31:26.441108Z",
     "iopub.status.busy": "2024-03-29T19:31:26.440366Z",
     "iopub.status.idle": "2024-03-29T19:31:26.446788Z",
     "shell.execute_reply": "2024-03-29T19:31:26.445676Z",
     "shell.execute_reply.started": "2024-03-29T19:31:26.441076Z"
    },
    "papermill": {
     "duration": null,
     "end_time": null,
     "exception": null,
     "start_time": null,
     "status": "pending"
    },
    "tags": []
   },
   "outputs": [],
   "source": [
    "dataset_train = TensorDataset(input_ids_train, attention_masks_train, tags_train)\n",
    "dataset_val = TensorDataset(input_ids_val, attention_masks_val, tags_val)"
   ]
  },
  {
   "cell_type": "code",
   "execution_count": null,
   "id": "7531a54f",
   "metadata": {
    "execution": {
     "iopub.execute_input": "2024-03-29T19:31:32.664416Z",
     "iopub.status.busy": "2024-03-29T19:31:32.664038Z",
     "iopub.status.idle": "2024-03-29T19:31:32.671471Z",
     "shell.execute_reply": "2024-03-29T19:31:32.670373Z",
     "shell.execute_reply.started": "2024-03-29T19:31:32.664386Z"
    },
    "papermill": {
     "duration": null,
     "end_time": null,
     "exception": null,
     "start_time": null,
     "status": "pending"
    },
    "tags": []
   },
   "outputs": [],
   "source": [
    "print(len(dataset_train), len(dataset_val))"
   ]
  },
  {
   "cell_type": "markdown",
   "id": "d24dca70",
   "metadata": {
    "papermill": {
     "duration": null,
     "end_time": null,
     "exception": null,
     "start_time": null,
     "status": "pending"
    },
    "tags": []
   },
   "source": [
    "## Model Training"
   ]
  },
  {
   "cell_type": "code",
   "execution_count": null,
   "id": "05d24eaa",
   "metadata": {
    "execution": {
     "iopub.execute_input": "2024-03-29T19:32:01.265580Z",
     "iopub.status.busy": "2024-03-29T19:32:01.265195Z",
     "iopub.status.idle": "2024-03-29T19:32:03.901305Z",
     "shell.execute_reply": "2024-03-29T19:32:03.900178Z",
     "shell.execute_reply.started": "2024-03-29T19:32:01.265552Z"
    },
    "papermill": {
     "duration": null,
     "end_time": null,
     "exception": null,
     "start_time": null,
     "status": "pending"
    },
    "tags": []
   },
   "outputs": [],
   "source": [
    "model = BertForSequenceClassification.from_pretrained(\"dmis-lab/biobert-base-cased-v1.2\",\n",
    "                                                      num_labels=len(evidence_dict),\n",
    "                                                      output_attentions=False,\n",
    "                                                      output_hidden_states=False)"
   ]
  },
  {
   "cell_type": "code",
   "execution_count": null,
   "id": "56e0a87c",
   "metadata": {
    "execution": {
     "iopub.execute_input": "2024-03-29T19:32:13.067689Z",
     "iopub.status.busy": "2024-03-29T19:32:13.067152Z",
     "iopub.status.idle": "2024-03-29T19:32:13.074157Z",
     "shell.execute_reply": "2024-03-29T19:32:13.073168Z",
     "shell.execute_reply.started": "2024-03-29T19:32:13.067645Z"
    },
    "papermill": {
     "duration": null,
     "end_time": null,
     "exception": null,
     "start_time": null,
     "status": "pending"
    },
    "tags": []
   },
   "outputs": [],
   "source": [
    "batch_size = 16 #Defining Batch Size on which model has to be trained\n",
    "\n",
    "# Converting tensors Dataset to dataloaders so that model can be trained\n",
    "dataloader_train = DataLoader(dataset_train,sampler=RandomSampler(dataset_train), batch_size=batch_size) \n",
    "\n",
    "dataloader_validation = DataLoader(dataset_val, sampler=SequentialSampler(dataset_val), batch_size=batch_size)"
   ]
  },
  {
   "cell_type": "code",
   "execution_count": null,
   "id": "80fd1456",
   "metadata": {
    "execution": {
     "iopub.execute_input": "2024-03-29T19:32:19.962724Z",
     "iopub.status.busy": "2024-03-29T19:32:19.962023Z",
     "iopub.status.idle": "2024-03-29T19:32:19.970648Z",
     "shell.execute_reply": "2024-03-29T19:32:19.969313Z",
     "shell.execute_reply.started": "2024-03-29T19:32:19.962693Z"
    },
    "papermill": {
     "duration": null,
     "end_time": null,
     "exception": null,
     "start_time": null,
     "status": "pending"
    },
    "tags": []
   },
   "outputs": [],
   "source": [
    "optimizer = AdamW(model.parameters(),lr=1e-5, eps=1e-8) # Initializing Adam Weight Decay Optimizer with its parameters "
   ]
  },
  {
   "cell_type": "code",
   "execution_count": null,
   "id": "56d63317",
   "metadata": {
    "execution": {
     "iopub.execute_input": "2024-03-29T19:32:28.939019Z",
     "iopub.status.busy": "2024-03-29T19:32:28.938646Z",
     "iopub.status.idle": "2024-03-29T19:32:28.945502Z",
     "shell.execute_reply": "2024-03-29T19:32:28.944423Z",
     "shell.execute_reply.started": "2024-03-29T19:32:28.938990Z"
    },
    "papermill": {
     "duration": null,
     "end_time": null,
     "exception": null,
     "start_time": null,
     "status": "pending"
    },
    "tags": []
   },
   "outputs": [],
   "source": [
    "epochs = 15\n",
    "scheduler = get_linear_schedule_with_warmup(optimizer, num_warmup_steps=0,num_training_steps=len(dataloader_train)*epochs)"
   ]
  },
  {
   "cell_type": "code",
   "execution_count": null,
   "id": "0c0e99a6",
   "metadata": {
    "execution": {
     "iopub.execute_input": "2024-03-29T19:32:36.954268Z",
     "iopub.status.busy": "2024-03-29T19:32:36.953388Z",
     "iopub.status.idle": "2024-03-29T19:32:36.963063Z",
     "shell.execute_reply": "2024-03-29T19:32:36.961969Z",
     "shell.execute_reply.started": "2024-03-29T19:32:36.954232Z"
    },
    "papermill": {
     "duration": null,
     "end_time": null,
     "exception": null,
     "start_time": null,
     "status": "pending"
    },
    "tags": []
   },
   "outputs": [],
   "source": [
    "def f1_score_func(preds, tags):\n",
    "    preds_flat = np.argmax(preds, axis=1).flatten()\n",
    "    tags_flat = tags.flatten()\n",
    "    return f1_score(tags_flat, preds_flat, average='weighted')\n",
    "\n",
    "def accuracy_per_class(preds, tags):\n",
    "    evidence_dict_inverse = {v: k for k, v in evidence_dict.items()}\n",
    "    \n",
    "    preds_flat = np.argmax(preds, axis=1).flatten()\n",
    "    tags_flat = tags.flatten()\n",
    "\n",
    "    for tag in np.unique(tags_flat):\n",
    "        y_preds = preds_flat[tags_flat==tag]\n",
    "        y_true = tags_flat[tags_flat==tag]\n",
    "        print(f'PICO Evidence Class: {evidence_dict_inverse[tag]}')\n",
    "        print(f'Accuracy: {len(y_preds[y_preds==tag])}/{len(y_true)}\\n')"
   ]
  },
  {
   "cell_type": "code",
   "execution_count": null,
   "id": "9d2ab744",
   "metadata": {
    "execution": {
     "iopub.execute_input": "2024-03-29T19:32:45.999623Z",
     "iopub.status.busy": "2024-03-29T19:32:45.999268Z",
     "iopub.status.idle": "2024-03-29T19:32:46.006636Z",
     "shell.execute_reply": "2024-03-29T19:32:46.005322Z",
     "shell.execute_reply.started": "2024-03-29T19:32:45.999597Z"
    },
    "papermill": {
     "duration": null,
     "end_time": null,
     "exception": null,
     "start_time": null,
     "status": "pending"
    },
    "tags": []
   },
   "outputs": [],
   "source": [
    "seed_val = 199\n",
    "random.seed(seed_val)\n",
    "np.random.seed(seed_val)\n",
    "torch.manual_seed(seed_val)\n",
    "torch.cuda.manual_seed_all(seed_val)"
   ]
  },
  {
   "cell_type": "code",
   "execution_count": null,
   "id": "9bf6bccd",
   "metadata": {
    "execution": {
     "iopub.execute_input": "2024-03-29T19:32:52.694422Z",
     "iopub.status.busy": "2024-03-29T19:32:52.694050Z",
     "iopub.status.idle": "2024-03-29T19:32:52.956947Z",
     "shell.execute_reply": "2024-03-29T19:32:52.955857Z",
     "shell.execute_reply.started": "2024-03-29T19:32:52.694392Z"
    },
    "papermill": {
     "duration": null,
     "end_time": null,
     "exception": null,
     "start_time": null,
     "status": "pending"
    },
    "tags": []
   },
   "outputs": [],
   "source": [
    "device = torch.device('cuda' if torch.cuda.is_available() else 'cpu')\n",
    "model.to(device)\n",
    "\n",
    "print(device)"
   ]
  },
  {
   "cell_type": "code",
   "execution_count": null,
   "id": "3e8add8d",
   "metadata": {
    "execution": {
     "iopub.execute_input": "2024-03-29T19:33:06.848353Z",
     "iopub.status.busy": "2024-03-29T19:33:06.847743Z",
     "iopub.status.idle": "2024-03-29T19:33:06.858603Z",
     "shell.execute_reply": "2024-03-29T19:33:06.857509Z",
     "shell.execute_reply.started": "2024-03-29T19:33:06.848323Z"
    },
    "papermill": {
     "duration": null,
     "end_time": null,
     "exception": null,
     "start_time": null,
     "status": "pending"
    },
    "tags": []
   },
   "outputs": [],
   "source": [
    "def evaluate(dataloader_val):\n",
    "\n",
    "    model.eval()\n",
    "    \n",
    "    loss_val_total = 0\n",
    "    predictions, true_vals = [], []\n",
    "    \n",
    "    for batch in dataloader_val:\n",
    "        \n",
    "        batch = tuple(b.to(device) for b in batch)\n",
    "        \n",
    "        inputs = {'input_ids':      batch[0],\n",
    "                  'attention_mask': batch[1],\n",
    "                  'labels':         batch[2],\n",
    "                 }\n",
    "\n",
    "        with torch.no_grad():        \n",
    "            outputs = model(**inputs)\n",
    "            \n",
    "        loss = outputs[0]\n",
    "        logits = outputs[1]\n",
    "        loss_val_total += loss.item()\n",
    "\n",
    "        logits = logits.detach().cpu().numpy()\n",
    "        label_ids = inputs['labels'].cpu().numpy()\n",
    "        predictions.append(logits)\n",
    "        true_vals.append(label_ids)\n",
    "    \n",
    "    loss_val_avg = loss_val_total/len(dataloader_val) \n",
    "    \n",
    "    predictions = np.concatenate(predictions, axis=0)\n",
    "    true_vals = np.concatenate(true_vals, axis=0)\n",
    "            \n",
    "    return loss_val_avg, predictions, true_vals"
   ]
  },
  {
   "cell_type": "code",
   "execution_count": null,
   "id": "df5b8027",
   "metadata": {
    "execution": {
     "iopub.execute_input": "2024-03-29T19:33:14.554545Z",
     "iopub.status.busy": "2024-03-29T19:33:14.554145Z",
     "iopub.status.idle": "2024-03-29T19:33:15.560587Z",
     "shell.execute_reply": "2024-03-29T19:33:15.559383Z",
     "shell.execute_reply.started": "2024-03-29T19:33:14.554514Z"
    },
    "papermill": {
     "duration": null,
     "end_time": null,
     "exception": null,
     "start_time": null,
     "status": "pending"
    },
    "tags": []
   },
   "outputs": [],
   "source": [
    "!mkdir models #creating Directory for model storing"
   ]
  },
  {
   "cell_type": "code",
   "execution_count": null,
   "id": "e1bd306a",
   "metadata": {
    "execution": {
     "iopub.execute_input": "2024-03-29T19:34:09.853066Z",
     "iopub.status.busy": "2024-03-29T19:34:09.852656Z",
     "iopub.status.idle": "2024-03-29T19:42:56.420712Z",
     "shell.execute_reply": "2024-03-29T19:42:56.419507Z",
     "shell.execute_reply.started": "2024-03-29T19:34:09.853031Z"
    },
    "papermill": {
     "duration": null,
     "end_time": null,
     "exception": null,
     "start_time": null,
     "status": "pending"
    },
    "tags": []
   },
   "outputs": [],
   "source": [
    "loss_train_avg_list = []\n",
    "val_loss_list = []\n",
    "val_f1_list = []\n",
    "\n",
    "for epoch in tqdm(range(1, epochs+1)):\n",
    "    \n",
    "    model.train()\n",
    "    \n",
    "    loss_train_total = 0\n",
    "\n",
    "    progress_bar = tqdm(dataloader_train, desc='Epoch {:1d}'.format(epoch), leave=False, disable=False)\n",
    "    for batch in progress_bar:\n",
    "\n",
    "        model.zero_grad()\n",
    "        \n",
    "        batch = tuple(b.to(device) for b in batch)\n",
    "        \n",
    "        inputs = {'input_ids':      batch[0],\n",
    "                  'attention_mask': batch[1],\n",
    "                  'labels':         batch[2],\n",
    "                 }       \n",
    "\n",
    "        outputs = model(**inputs)\n",
    "        \n",
    "        loss = outputs[0]\n",
    "        loss_train_total += loss.item()\n",
    "        loss.backward()\n",
    "\n",
    "        torch.nn.utils.clip_grad_norm_(model.parameters(), 1.0)\n",
    "\n",
    "        optimizer.step()\n",
    "        scheduler.step()\n",
    "        \n",
    "        progress_bar.set_postfix({'training_loss': '{:.3f}'.format(loss.item()/len(batch))})\n",
    "         \n",
    "    torch.save(model.state_dict(), f'models/finetuned_BioBERT_epoch_{epoch}.model')\n",
    "        \n",
    "    tqdm.write(f'\\nEpoch {epoch}')\n",
    "    \n",
    "    loss_train_avg = loss_train_total/len(dataloader_train)            \n",
    "    tqdm.write(f'Training loss: {loss_train_avg}')\n",
    "    loss_train_avg_list.append(loss_train_avg)\n",
    "    \n",
    "    val_loss, predictions, true_vals = evaluate(dataloader_validation)\n",
    "    val_f1 = f1_score_func(predictions, true_vals)\n",
    "    tqdm.write(f'Validation loss: {val_loss}')\n",
    "    val_loss_list.append(val_loss)\n",
    "    tqdm.write(f'F1 validation Score (Weighted): {val_f1}')\n",
    "    val_f1_list.append(val_f1)\n",
    "    wandb.log({\"Training loss\":loss_train_avg, \"Validation loss\":val_loss,\"F1 validation Score (Weighted)\":val_f1,})"
   ]
  },
  {
   "cell_type": "code",
   "execution_count": null,
   "id": "0200f741",
   "metadata": {
    "execution": {
     "iopub.execute_input": "2024-03-29T19:43:15.282517Z",
     "iopub.status.busy": "2024-03-29T19:43:15.282116Z",
     "iopub.status.idle": "2024-03-29T19:43:15.502716Z",
     "shell.execute_reply": "2024-03-29T19:43:15.501559Z",
     "shell.execute_reply.started": "2024-03-29T19:43:15.282482Z"
    },
    "papermill": {
     "duration": null,
     "end_time": null,
     "exception": null,
     "start_time": null,
     "status": "pending"
    },
    "tags": []
   },
   "outputs": [],
   "source": [
    "model.load_state_dict(torch.load('models/finetuned_BioBERT_epoch_8.model', map_location=torch.device('cuda')))"
   ]
  },
  {
   "cell_type": "code",
   "execution_count": null,
   "id": "844bed97",
   "metadata": {
    "execution": {
     "iopub.execute_input": "2024-03-29T19:43:23.451563Z",
     "iopub.status.busy": "2024-03-29T19:43:23.451103Z",
     "iopub.status.idle": "2024-03-29T19:43:23.862513Z",
     "shell.execute_reply": "2024-03-29T19:43:23.858236Z",
     "shell.execute_reply.started": "2024-03-29T19:43:23.451529Z"
    },
    "papermill": {
     "duration": null,
     "end_time": null,
     "exception": null,
     "start_time": null,
     "status": "pending"
    },
    "tags": []
   },
   "outputs": [],
   "source": [
    "sns.set(style='darkgrid')\n",
    "\n",
    "sns.set(font_scale=1.5)\n",
    "plt.rcParams[\"figure.figsize\"] = (12,6)\n",
    "\n",
    "\n",
    "plt.plot(loss_train_avg_list, 'b-o')\n",
    "\n",
    "plt.title(\"Training loss\")\n",
    "plt.xlabel(\"Epoch\")\n",
    "plt.ylabel(\"Loss\")\n",
    "\n",
    "plt.show()"
   ]
  },
  {
   "cell_type": "code",
   "execution_count": null,
   "id": "282b18c1",
   "metadata": {
    "execution": {
     "iopub.execute_input": "2024-03-29T19:43:31.498329Z",
     "iopub.status.busy": "2024-03-29T19:43:31.497392Z",
     "iopub.status.idle": "2024-03-29T19:43:31.821405Z",
     "shell.execute_reply": "2024-03-29T19:43:31.820506Z",
     "shell.execute_reply.started": "2024-03-29T19:43:31.498293Z"
    },
    "papermill": {
     "duration": null,
     "end_time": null,
     "exception": null,
     "start_time": null,
     "status": "pending"
    },
    "tags": []
   },
   "outputs": [],
   "source": [
    "sns.set(style='darkgrid')\n",
    "\n",
    "sns.set(font_scale=1.5)\n",
    "plt.rcParams[\"figure.figsize\"] = (12,6)\n",
    "\n",
    "\n",
    "plt.plot(val_loss_list, 'b-o')\n",
    "\n",
    "plt.title(\"Validation loss\")\n",
    "plt.xlabel(\"Epoch\")\n",
    "plt.ylabel(\"Loss\")\n",
    "\n",
    "plt.show()"
   ]
  },
  {
   "cell_type": "code",
   "execution_count": null,
   "id": "e1062572",
   "metadata": {
    "execution": {
     "iopub.execute_input": "2024-03-29T19:43:39.604248Z",
     "iopub.status.busy": "2024-03-29T19:43:39.603430Z",
     "iopub.status.idle": "2024-03-29T19:43:39.967203Z",
     "shell.execute_reply": "2024-03-29T19:43:39.966001Z",
     "shell.execute_reply.started": "2024-03-29T19:43:39.604208Z"
    },
    "papermill": {
     "duration": null,
     "end_time": null,
     "exception": null,
     "start_time": null,
     "status": "pending"
    },
    "tags": []
   },
   "outputs": [],
   "source": [
    "sns.set(style='darkgrid')\n",
    "\n",
    "sns.set(font_scale=1.5)\n",
    "plt.rcParams[\"figure.figsize\"] = (12,6)\n",
    "\n",
    "\n",
    "plt.plot(val_f1_list, 'b-o')\n",
    "\n",
    "plt.title(\"Validation F1 Score\")\n",
    "plt.xlabel(\"Epoch\")\n",
    "plt.ylabel(\"Loss\")\n",
    "\n",
    "plt.show()"
   ]
  },
  {
   "cell_type": "code",
   "execution_count": null,
   "id": "551f8943",
   "metadata": {
    "execution": {
     "iopub.execute_input": "2024-03-29T19:43:49.050162Z",
     "iopub.status.busy": "2024-03-29T19:43:49.049301Z",
     "iopub.status.idle": "2024-03-29T19:43:55.056021Z",
     "shell.execute_reply": "2024-03-29T19:43:55.055309Z",
     "shell.execute_reply.started": "2024-03-29T19:43:49.050127Z"
    },
    "papermill": {
     "duration": null,
     "end_time": null,
     "exception": null,
     "start_time": null,
     "status": "pending"
    },
    "tags": []
   },
   "outputs": [],
   "source": [
    "wandb.finish()"
   ]
  },
  {
   "cell_type": "code",
   "execution_count": null,
   "id": "df6efbbe",
   "metadata": {
    "execution": {
     "iopub.execute_input": "2024-03-29T19:44:40.735808Z",
     "iopub.status.busy": "2024-03-29T19:44:40.735050Z",
     "iopub.status.idle": "2024-03-29T19:44:42.259671Z",
     "shell.execute_reply": "2024-03-29T19:44:42.258848Z",
     "shell.execute_reply.started": "2024-03-29T19:44:40.735773Z"
    },
    "papermill": {
     "duration": null,
     "end_time": null,
     "exception": null,
     "start_time": null,
     "status": "pending"
    },
    "tags": []
   },
   "outputs": [],
   "source": [
    "_, predictions, true_vals = evaluate(dataloader_validation)"
   ]
  },
  {
   "cell_type": "code",
   "execution_count": null,
   "id": "cbd43ac8",
   "metadata": {
    "execution": {
     "iopub.execute_input": "2024-03-29T19:44:47.802958Z",
     "iopub.status.busy": "2024-03-29T19:44:47.802105Z",
     "iopub.status.idle": "2024-03-29T19:44:47.809402Z",
     "shell.execute_reply": "2024-03-29T19:44:47.808405Z",
     "shell.execute_reply.started": "2024-03-29T19:44:47.802920Z"
    },
    "papermill": {
     "duration": null,
     "end_time": null,
     "exception": null,
     "start_time": null,
     "status": "pending"
    },
    "tags": []
   },
   "outputs": [],
   "source": [
    "accuracy_per_class(predictions, true_vals)"
   ]
  },
  {
   "cell_type": "code",
   "execution_count": null,
   "id": "feeb7df9",
   "metadata": {
    "execution": {
     "iopub.execute_input": "2024-03-29T20:33:30.886009Z",
     "iopub.status.busy": "2024-03-29T20:33:30.885256Z",
     "iopub.status.idle": "2024-03-29T20:33:31.082125Z",
     "shell.execute_reply": "2024-03-29T20:33:31.081018Z",
     "shell.execute_reply.started": "2024-03-29T20:33:30.885976Z"
    },
    "papermill": {
     "duration": null,
     "end_time": null,
     "exception": null,
     "start_time": null,
     "status": "pending"
    },
    "tags": []
   },
   "outputs": [],
   "source": [
    "from kaggle_secrets import UserSecretsClient\n",
    "user_secrets = UserSecretsClient()\n",
    "secret_value_0 = user_secrets.get_secret(\"transcript\")"
   ]
  },
  {
   "cell_type": "code",
   "execution_count": null,
   "id": "ac07b391",
   "metadata": {
    "execution": {
     "iopub.execute_input": "2024-03-29T20:33:33.607755Z",
     "iopub.status.busy": "2024-03-29T20:33:33.607306Z",
     "iopub.status.idle": "2024-03-29T20:33:37.258923Z",
     "shell.execute_reply": "2024-03-29T20:33:37.257936Z",
     "shell.execute_reply.started": "2024-03-29T20:33:33.607711Z"
    },
    "papermill": {
     "duration": null,
     "end_time": null,
     "exception": null,
     "start_time": null,
     "status": "pending"
    },
    "tags": []
   },
   "outputs": [],
   "source": [
    "!sudo apt-get install git-lfs\n",
    "!git lfs install"
   ]
  },
  {
   "cell_type": "code",
   "execution_count": null,
   "id": "b4858892",
   "metadata": {
    "execution": {
     "iopub.execute_input": "2024-03-29T20:38:03.540425Z",
     "iopub.status.busy": "2024-03-29T20:38:03.539772Z",
     "iopub.status.idle": "2024-03-29T20:38:06.335356Z",
     "shell.execute_reply": "2024-03-29T20:38:06.334386Z",
     "shell.execute_reply.started": "2024-03-29T20:38:03.540392Z"
    },
    "papermill": {
     "duration": null,
     "end_time": null,
     "exception": null,
     "start_time": null,
     "status": "pending"
    },
    "tags": []
   },
   "outputs": [],
   "source": [
    "model.push_to_hub(repo_id='***', use_auth_token='')"
   ]
  },
  {
   "cell_type": "code",
   "execution_count": null,
   "id": "810c40ce",
   "metadata": {
    "execution": {
     "iopub.execute_input": "2024-03-29T20:38:17.295237Z",
     "iopub.status.busy": "2024-03-29T20:38:17.294580Z",
     "iopub.status.idle": "2024-03-29T20:38:18.285124Z",
     "shell.execute_reply": "2024-03-29T20:38:18.284216Z",
     "shell.execute_reply.started": "2024-03-29T20:38:17.295206Z"
    },
    "papermill": {
     "duration": null,
     "end_time": null,
     "exception": null,
     "start_time": null,
     "status": "pending"
    },
    "tags": []
   },
   "outputs": [],
   "source": [
    "tokenizer.push_to_hub(repo_id='***', use_auth_token='')"
   ]
  },
  {
   "cell_type": "code",
   "execution_count": null,
   "id": "66cfdd6c",
   "metadata": {
    "papermill": {
     "duration": null,
     "end_time": null,
     "exception": null,
     "start_time": null,
     "status": "pending"
    },
    "tags": []
   },
   "outputs": [],
   "source": []
  }
 ],
 "metadata": {
  "accelerator": "GPU",
  "colab": {
   "gpuType": "T4",
   "provenance": []
  },
  "kaggle": {
   "accelerator": "gpu",
   "dataSources": [
    {
     "datasetId": 3891715,
     "sourceId": 6761811,
     "sourceType": "datasetVersion"
    },
    {
     "datasetId": 4694509,
     "sourceId": 7976848,
     "sourceType": "datasetVersion"
    }
   ],
   "dockerImageVersionId": 30674,
   "isGpuEnabled": true,
   "isInternetEnabled": true,
   "language": "python",
   "sourceType": "notebook"
  },
  "kernelspec": {
   "display_name": "Python 3",
   "language": "python",
   "name": "python3"
  },
  "language_info": {
   "codemirror_mode": {
    "name": "ipython",
    "version": 3
   },
   "file_extension": ".py",
   "mimetype": "text/x-python",
   "name": "python",
   "nbconvert_exporter": "python",
   "pygments_lexer": "ipython3",
   "version": "3.10.13"
  },
  "papermill": {
   "default_parameters": {},
   "duration": 22.211616,
   "end_time": "2024-03-29T20:46:15.952764",
   "environment_variables": {},
   "exception": true,
   "input_path": "__notebook__.ipynb",
   "output_path": "__notebook__.ipynb",
   "parameters": {},
   "start_time": "2024-03-29T20:45:53.741148",
   "version": "2.4.0"
  }
 },
 "nbformat": 4,
 "nbformat_minor": 5
}
